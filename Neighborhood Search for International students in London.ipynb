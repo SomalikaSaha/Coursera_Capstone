{
 "cells": [
  {
   "cell_type": "markdown",
   "metadata": {},
   "source": [
    "# **Neighborhood Search for International students in London** "
   ]
  },
  {
   "cell_type": "markdown",
   "metadata": {},
   "source": [
    "###   **Table of Contents**"
   ]
  },
  {
   "cell_type": "markdown",
   "metadata": {},
   "source": [
    "- [Introduction to the Business Problem](#Introduction-to-the-Business-Problem)\n",
    "- [Data](#Data)\n",
    "- [Methodology](#Methodology)\n",
    "- [Results & Discussion](#Results-&-Discussion)\n",
    "- [Conclusion](#Conclusion)"
   ]
  },
  {
   "cell_type": "markdown",
   "metadata": {},
   "source": [
    "## **`Introduction to the Business Problem`**"
   ]
  },
  {
   "cell_type": "markdown",
   "metadata": {},
   "source": [
    "With its world-recognised universities, culturally diverse environment, and highly-skilled academic staff, the UK is consistently increasing in popularity to international students. \n",
    "According to 2018/2019 statistics from the Higher Education Statistics Agency, 485,645 international students were pursuing their degree in the UK, of which 125,035 were studying in the capital- `London`. Among other challenges faced by the students, one is selecting a Neighborhood in close vicinity of the Institute, based on their preferences. When I came to London to pursue my masters, I faced the same situation. While there are apps and websites where you can find the nearby postcodes, there is no central repository that specifies what places are there in each of those neighborhoods."
   ]
  },
  {
   "cell_type": "markdown",
   "metadata": {},
   "source": [
    "In this project, I will addressing this situation by exploring the Neighborhoods in the vicinity of a particular college. The solution is designed for the international candidates moving to London for pursuing their studies.\n",
    "Coming from a technology background and transitioning into the world of Data Science, this project is the stepping stone, utilising the knowledge gained through the IBM Data Science Certification course"
   ]
  },
  {
   "cell_type": "markdown",
   "metadata": {},
   "source": [
    "## **`Data`**"
   ]
  },
  {
   "cell_type": "markdown",
   "metadata": {},
   "source": [
    "For this project I need the following data: \n",
    "- `Geolocation data of the Universities in UK`:\n",
    "UK Learning Providers(http://learning-provider.data.ac.uk/) provides all universities in UK data along with the GeoLocations. From this I will extract only the universities of London for this project.\n",
    "<br> Sample data:\n",
    "<br> <img src=\"University_data.png\" width =600/>\n",
    "<br>\n",
    "<br>\n",
    "- `London Postal Codes`: \n",
    "List of all London Postcodes along with their Borough and geo data is available at https://www.doogal.co.uk/PostcodeDownloads.php. I will need to get the pre-fixes of the postcodes and group them.\n",
    "<br> Sample data:\n",
    "<br> <img src = \"![image](https://user-images.githubusercontent.com/62149395/78914288-2139e180-7a82-11ea-820d-daab58812f8f.png)\">\n",
    "<br>\n",
    "<br>\n",
    "- `Neighborhoods within 5kms of the Institute`: https://postcodes.io/ provides an API which when called, generates a JSON with data of outcodes(Postcost area and postcode District) within 5km of a given Postcode. I will use the API to get the Outcodes of the neighborhoods.\n",
    "<br> Sample API: 'https://api.postcodes.io/outcodes?lon=-0.133498&lat=51.536862'\n",
    "<br>\n",
    "<br>\n",
    "- `Venues in Neighborhood`: This data is obtained using the Foursquare API. Using the geo data of an Area we explore using the API to get the venue nearby each of the neighborhood"
   ]
  }
 ],
 "metadata": {
  "kernelspec": {
   "display_name": "Python",
   "language": "python",
   "name": "conda-env-python-py"
  },
  "language_info": {
   "codemirror_mode": {
    "name": "ipython",
    "version": 3
   },
   "file_extension": ".py",
   "mimetype": "text/x-python",
   "name": "python",
   "nbconvert_exporter": "python",
   "pygments_lexer": "ipython3",
   "version": "3.6.10"
  }
 },
 "nbformat": 4,
 "nbformat_minor": 4
}
